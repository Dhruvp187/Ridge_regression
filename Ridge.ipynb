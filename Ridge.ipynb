{
  "nbformat": 4,
  "nbformat_minor": 0,
  "metadata": {
    "colab": {
      "provenance": [],
      "authorship_tag": "ABX9TyPiVTLrTW/pBi9h/+r+ND0B",
      "include_colab_link": true
    },
    "kernelspec": {
      "name": "python3",
      "display_name": "Python 3"
    },
    "language_info": {
      "name": "python"
    }
  },
  "cells": [
    {
      "cell_type": "markdown",
      "metadata": {
        "id": "view-in-github",
        "colab_type": "text"
      },
      "source": [
        "<a href=\"https://colab.research.google.com/github/Dhruvp187/Ridge_regression/blob/main/Ridge.ipynb\" target=\"_parent\"><img src=\"https://colab.research.google.com/assets/colab-badge.svg\" alt=\"Open In Colab\"/></a>"
      ]
    },
    {
      "cell_type": "code",
      "source": [
        "import numpy as np\n",
        "import pandas as pd\n",
        "import os\n",
        "import random\n",
        "import matplotlib.pyplot as plt\n",
        "import matplotlib as map\n",
        "\n",
        "data = pd.read_csv('penguins_size.csv')\n",
        "\n",
        "data.dtypes"
      ],
      "metadata": {
        "colab": {
          "base_uri": "https://localhost:8080/"
        },
        "id": "cleWNJvWeQdW",
        "outputId": "cb20622f-4afb-41bc-bbd8-85c6af4eeb66"
      },
      "execution_count": null,
      "outputs": [
        {
          "output_type": "execute_result",
          "data": {
            "text/plain": [
              "species               object\n",
              "island                object\n",
              "culmen_length_mm     float64\n",
              "culmen_depth_mm      float64\n",
              "flipper_length_mm    float64\n",
              "body_mass_g          float64\n",
              "sex                   object\n",
              "dtype: object"
            ]
          },
          "metadata": {},
          "execution_count": 19
        }
      ]
    },
    {
      "cell_type": "code",
      "source": [
        "data.describe()\n",
        "data.max()\n",
        "data.value_counts()\n",
        "data.info()\n",
        "data.dtypes\n"
      ],
      "metadata": {
        "colab": {
          "base_uri": "https://localhost:8080/"
        },
        "id": "zKpBQdFxRd3V",
        "outputId": "b670a469-3586-4784-816a-925bfddb5d85"
      },
      "execution_count": null,
      "outputs": [
        {
          "output_type": "stream",
          "name": "stdout",
          "text": [
            "<class 'pandas.core.frame.DataFrame'>\n",
            "Int64Index: 333 entries, 0 to 343\n",
            "Data columns (total 5 columns):\n",
            " #   Column             Non-Null Count  Dtype  \n",
            "---  ------             --------------  -----  \n",
            " 0   culmen_length_mm   333 non-null    float64\n",
            " 1   culmen_depth_mm    333 non-null    float64\n",
            " 2   flipper_length_mm  333 non-null    float64\n",
            " 3   body_mass_g        333 non-null    float64\n",
            " 4   sex                333 non-null    float64\n",
            "dtypes: float64(5)\n",
            "memory usage: 15.6 KB\n"
          ]
        },
        {
          "output_type": "execute_result",
          "data": {
            "text/plain": [
              "culmen_length_mm     float64\n",
              "culmen_depth_mm      float64\n",
              "flipper_length_mm    float64\n",
              "body_mass_g          float64\n",
              "sex                  float64\n",
              "dtype: object"
            ]
          },
          "metadata": {},
          "execution_count": 91
        }
      ]
    },
    {
      "cell_type": "code",
      "source": [
        "data['species'] = data.species.astype('category')\n",
        "data['sex'] = data.sex.astype('category')\n",
        "data['island'] = data.island.astype('category')\n",
        "\n",
        "data.dtypes"
      ],
      "metadata": {
        "colab": {
          "base_uri": "https://localhost:8080/"
        },
        "id": "uv5bLIWdeYOU",
        "outputId": "8d50256a-b034-4367-e3e4-e0bf0869ed14"
      },
      "execution_count": null,
      "outputs": [
        {
          "output_type": "execute_result",
          "data": {
            "text/plain": [
              "species              category\n",
              "island               category\n",
              "culmen_length_mm      float64\n",
              "culmen_depth_mm       float64\n",
              "flipper_length_mm     float64\n",
              "body_mass_g           float64\n",
              "sex                  category\n",
              "dtype: object"
            ]
          },
          "metadata": {},
          "execution_count": 20
        }
      ]
    },
    {
      "cell_type": "code",
      "source": [
        "df_min_max_scaled = data.copy()\n",
        "\n",
        "column = 'culmen_length_mm'\n",
        "df_min_max_scaled[column] = (df_min_max_scaled[column] - df_min_max_scaled[column].min()) / (df_min_max_scaled[column].max() - df_min_max_scaled[column].min())\n",
        "column = 'culmen_depth_mm'\n",
        "df_min_max_scaled[column] = (df_min_max_scaled[column] - df_min_max_scaled[column].min()) / (df_min_max_scaled[column].max() - df_min_max_scaled[column].min())\n",
        "column = 'flipper_length_mm'\n",
        "df_min_max_scaled[column] = (df_min_max_scaled[column] - df_min_max_scaled[column].min()) / (df_min_max_scaled[column].max() - df_min_max_scaled[column].min())\n",
        "column = 'body_mass_g'\n",
        "df_min_max_scaled[column] = (df_min_max_scaled[column] - df_min_max_scaled[column].min()) / (df_min_max_scaled[column].max() - df_min_max_scaled[column].min())\n",
        "\n",
        "data = df_min_max_scaled\n",
        "\n",
        "print(data)"
      ],
      "metadata": {
        "colab": {
          "base_uri": "https://localhost:8080/"
        },
        "id": "Jj18MfSSv1UV",
        "outputId": "8c92ab6b-fb39-4c0d-e352-be4602d5fbe6"
      },
      "execution_count": null,
      "outputs": [
        {
          "output_type": "stream",
          "name": "stdout",
          "text": [
            "     culmen_length_mm  culmen_depth_mm  flipper_length_mm  body_mass_g  sex\n",
            "0            0.254545         0.666667           0.152542     0.291667  1.0\n",
            "1            0.269091         0.511905           0.237288     0.305556  2.0\n",
            "2            0.298182         0.583333           0.389831     0.152778  2.0\n",
            "4            0.167273         0.738095           0.355932     0.208333  2.0\n",
            "5            0.261818         0.892857           0.305085     0.263889  1.0\n",
            "..                ...              ...                ...          ...  ...\n",
            "338          0.549091         0.071429           0.711864     0.618056  2.0\n",
            "340          0.534545         0.142857           0.728814     0.597222  2.0\n",
            "341          0.665455         0.309524           0.847458     0.847222  1.0\n",
            "342          0.476364         0.202381           0.677966     0.694444  2.0\n",
            "343          0.647273         0.357143           0.694915     0.750000  1.0\n",
            "\n",
            "[333 rows x 5 columns]\n"
          ]
        }
      ]
    },
    {
      "cell_type": "code",
      "source": [
        "data.replace(to_replace=['MALE','FEMALE'] , value=[\"1.0\", \"2.0\"], inplace=True)\n",
        "\n",
        "data['sex'] = pd.to_numeric(data['sex'],errors = 'coerce')\n",
        "data.dtypes\n"
      ],
      "metadata": {
        "colab": {
          "base_uri": "https://localhost:8080/"
        },
        "id": "o-K28Q4DfBMC",
        "outputId": "45a7dfbc-4b13-4aab-8e5e-b67e1cff5a8a"
      },
      "execution_count": null,
      "outputs": [
        {
          "output_type": "execute_result",
          "data": {
            "text/plain": [
              "culmen_length_mm     float64\n",
              "culmen_depth_mm      float64\n",
              "flipper_length_mm    float64\n",
              "body_mass_g          float64\n",
              "sex                  float64\n",
              "dtype: object"
            ]
          },
          "metadata": {},
          "execution_count": 93
        }
      ]
    },
    {
      "cell_type": "code",
      "source": [
        "data = data.drop(['species','island'], axis=1)\n",
        "data = data.drop(labels=[3,8,9,10,11,47,246,286,324,336,339], axis=0)\n",
        "\n",
        "\n",
        "print(data)"
      ],
      "metadata": {
        "id": "eQtELnGPfETF",
        "colab": {
          "base_uri": "https://localhost:8080/"
        },
        "outputId": "26e4e434-c68e-46f3-c7de-1a425a238c55"
      },
      "execution_count": null,
      "outputs": [
        {
          "output_type": "stream",
          "name": "stdout",
          "text": [
            "     culmen_length_mm  culmen_depth_mm  flipper_length_mm  body_mass_g  sex\n",
            "0                39.1             18.7              181.0       3750.0  1.0\n",
            "1                39.5             17.4              186.0       3800.0  2.0\n",
            "2                40.3             18.0              195.0       3250.0  2.0\n",
            "4                36.7             19.3              193.0       3450.0  2.0\n",
            "5                39.3             20.6              190.0       3650.0  1.0\n",
            "..                ...              ...                ...          ...  ...\n",
            "338              47.2             13.7              214.0       4925.0  2.0\n",
            "340              46.8             14.3              215.0       4850.0  2.0\n",
            "341              50.4             15.7              222.0       5750.0  1.0\n",
            "342              45.2             14.8              212.0       5200.0  2.0\n",
            "343              49.9             16.1              213.0       5400.0  1.0\n",
            "\n",
            "[333 rows x 5 columns]\n"
          ]
        }
      ]
    },
    {
      "cell_type": "code",
      "source": [
        "X = data.drop(\"sex\", 1)\n",
        "Y = data['sex']\n",
        "\n",
        "print(\"X=\\n\", X,\"\\n\\nY=\\n\", Y)"
      ],
      "metadata": {
        "colab": {
          "base_uri": "https://localhost:8080/"
        },
        "id": "HcpwYSJ4fHUF",
        "outputId": "4c2e2ec3-7640-4fe0-e21e-0d1eb703a61e"
      },
      "execution_count": null,
      "outputs": [
        {
          "output_type": "stream",
          "name": "stdout",
          "text": [
            "X=\n",
            "      culmen_length_mm  culmen_depth_mm  flipper_length_mm  body_mass_g\n",
            "0                39.1             18.7              181.0       3750.0\n",
            "1                39.5             17.4              186.0       3800.0\n",
            "2                40.3             18.0              195.0       3250.0\n",
            "4                36.7             19.3              193.0       3450.0\n",
            "5                39.3             20.6              190.0       3650.0\n",
            "..                ...              ...                ...          ...\n",
            "338              47.2             13.7              214.0       4925.0\n",
            "340              46.8             14.3              215.0       4850.0\n",
            "341              50.4             15.7              222.0       5750.0\n",
            "342              45.2             14.8              212.0       5200.0\n",
            "343              49.9             16.1              213.0       5400.0\n",
            "\n",
            "[333 rows x 4 columns] \n",
            "\n",
            "Y=\n",
            " 0      1.0\n",
            "1      2.0\n",
            "2      2.0\n",
            "4      2.0\n",
            "5      1.0\n",
            "      ... \n",
            "338    2.0\n",
            "340    2.0\n",
            "341    1.0\n",
            "342    2.0\n",
            "343    1.0\n",
            "Name: sex, Length: 333, dtype: float64\n"
          ]
        },
        {
          "output_type": "stream",
          "name": "stderr",
          "text": [
            "/usr/local/lib/python3.7/dist-packages/ipykernel_launcher.py:1: FutureWarning: In a future version of pandas all arguments of DataFrame.drop except for the argument 'labels' will be keyword-only\n",
            "  \"\"\"Entry point for launching an IPython kernel.\n"
          ]
        }
      ]
    },
    {
      "cell_type": "code",
      "source": [
        "def split(X, Y, test_size=0.2):\n",
        "\n",
        "    i = int((1 - test_size) * X.shape[0])\n",
        "    o = np.random.permutation(X.shape[0])\n",
        "\n",
        "    X_train, X_test = np.split(np.take(X,o,axis=0), [i])\n",
        "    Y_train, Y_test = np.split(np.take(Y,o), [i])\n",
        "    return X_train, X_test, Y_train, Y_test\n",
        "\n",
        "\n",
        "X_train, X_test, Y_train, Y_test = split(X,Y)\n",
        "\n",
        "xtrain = X_train\n",
        "ytrain = Y_train\n",
        "xtest = X_test\n",
        "ytest = Y_test\n",
        "\n",
        "# print(X_train)\n",
        "# print(Y_train)\n",
        "# print(X_test)\n",
        "# print(Y_test)\n",
        "print(xtrain)\n",
        "print(ytrain)\n",
        "print(xtest)\n",
        "print(ytest)"
      ],
      "metadata": {
        "colab": {
          "base_uri": "https://localhost:8080/"
        },
        "id": "s0mXDe_7fJV1",
        "outputId": "58a94e40-d9b9-41aa-c60c-efb9afd43a15"
      },
      "execution_count": null,
      "outputs": [
        {
          "output_type": "stream",
          "name": "stdout",
          "text": [
            "     culmen_length_mm  culmen_depth_mm  flipper_length_mm  body_mass_g\n",
            "117              37.3             20.5              199.0       3775.0\n",
            "87               36.9             18.6              189.0       3500.0\n",
            "22               35.9             19.2              189.0       3800.0\n",
            "222              48.7             14.1              210.0       4450.0\n",
            "202              48.1             16.4              199.0       3325.0\n",
            "..                ...              ...                ...          ...\n",
            "223              50.0             15.2              218.0       5700.0\n",
            "93               39.6             18.1              186.0       4450.0\n",
            "203              51.4             19.0              201.0       3950.0\n",
            "96               38.1             18.6              190.0       3700.0\n",
            "101              41.0             20.0              203.0       4725.0\n",
            "\n",
            "[266 rows x 4 columns]\n",
            "117    1.0\n",
            "87     2.0\n",
            "22     2.0\n",
            "222    2.0\n",
            "202    2.0\n",
            "      ... \n",
            "223    1.0\n",
            "93     1.0\n",
            "203    1.0\n",
            "96     2.0\n",
            "101    1.0\n",
            "Name: sex, Length: 266, dtype: float64\n",
            "     culmen_length_mm  culmen_depth_mm  flipper_length_mm  body_mass_g\n",
            "40               36.5             18.0              182.0       3150.0\n",
            "221              50.0             16.3              230.0       5700.0\n",
            "338              47.2             13.7              214.0       4925.0\n",
            "4                36.7             19.3              193.0       3450.0\n",
            "174              43.2             16.6              187.0       2900.0\n",
            "..                ...              ...                ...          ...\n",
            "275              45.0             15.4              220.0       5050.0\n",
            "252              45.1             14.5              207.0       5050.0\n",
            "91               41.1             18.1              205.0       4300.0\n",
            "337              48.8             16.2              222.0       6000.0\n",
            "103              37.8             20.0              190.0       4250.0\n",
            "\n",
            "[67 rows x 4 columns]\n",
            "40     2.0\n",
            "221    1.0\n",
            "338    2.0\n",
            "4      2.0\n",
            "174    2.0\n",
            "      ... \n",
            "275    1.0\n",
            "252    2.0\n",
            "91     1.0\n",
            "337    1.0\n",
            "103    1.0\n",
            "Name: sex, Length: 67, dtype: float64\n"
          ]
        }
      ]
    },
    {
      "cell_type": "code",
      "source": [
        "print (xtrain.shape)\n",
        "print (ytrain.shape)\n",
        "print (xtest.shape)\n",
        "print (ytest.shape)\n"
      ],
      "metadata": {
        "colab": {
          "base_uri": "https://localhost:8080/"
        },
        "id": "mvDJEsOgfLsU",
        "outputId": "fc0e123d-75ef-43b2-c896-7ff57fc3057b"
      },
      "execution_count": null,
      "outputs": [
        {
          "output_type": "stream",
          "name": "stdout",
          "text": [
            "(266, 4)\n",
            "(266,)\n",
            "(67, 4)\n",
            "(67,)\n"
          ]
        }
      ]
    },
    {
      "cell_type": "code",
      "source": [
        "X = data.flipper_length_mm.values\n",
        "Y = data.sex.values\n",
        "\n",
        "l = 0.28\n",
        "\n",
        "X1_mat=np.vstack((np.ones(len(X)), X))\n",
        "print(X1_mat.shape)\n",
        "\n",
        "X_mat=np.vstack((np.ones(len(X)), X)).T\n",
        "\n",
        "print(X_mat.shape)\n",
        "\n",
        "beta_hat = np.linalg.inv((X_mat.T.dot(X_mat))+l*np.identity(2)).dot(X_mat.T).dot(Y)\n",
        "\n",
        "print(beta_hat.shape)\n",
        "\n",
        "# w=np.vstack((np.ones(len(beta_hat)), beta_hat)).T\n",
        "\n",
        "w = beta_hat.T\n",
        "print(w)"
      ],
      "metadata": {
        "colab": {
          "base_uri": "https://localhost:8080/"
        },
        "id": "3PqDTQX_p57w",
        "outputId": "74c13ae4-012e-46fe-fdf5-8d8344b92e99"
      },
      "execution_count": null,
      "outputs": [
        {
          "output_type": "stream",
          "name": "stdout",
          "text": [
            "(2, 333)\n",
            "(333, 2)\n",
            "(2,)\n",
            "[ 1.74800323 -0.51730213]\n"
          ]
        }
      ]
    },
    {
      "cell_type": "code",
      "source": [
        "lr = beta_hat.T*beta_hat\n",
        "lr = l*lr\n",
        "lr = (1/2)*lr\n",
        "\n",
        "print(lr)\n"
      ],
      "metadata": {
        "colab": {
          "base_uri": "https://localhost:8080/"
        },
        "id": "3i5Kp-0r6d16",
        "outputId": "7f02701e-8f28-4313-df2b-1160e2bafc5c"
      },
      "execution_count": null,
      "outputs": [
        {
          "output_type": "stream",
          "name": "stdout",
          "text": [
            "[0.42777214 0.03746421]\n"
          ]
        }
      ]
    },
    {
      "cell_type": "code",
      "source": [
        "\n",
        "ypred = np.dot(beta_hat,X1_mat)\n",
        "print(ytrain.shape)\n",
        "\n",
        "RSE = ((1/2)*(np.square(np.subtract(Y,ypred)))).mean()\n",
        "RSE = (RSE + lr).mean()\n",
        "\n",
        "print(RSE)\n"
      ],
      "metadata": {
        "colab": {
          "base_uri": "https://localhost:8080/"
        },
        "id": "Zkldmjsb5Bfp",
        "outputId": "e8d12b5f-9b92-418b-b952-9bb115174585"
      },
      "execution_count": null,
      "outputs": [
        {
          "output_type": "stream",
          "name": "stdout",
          "text": [
            "(266,)\n",
            "0.3494827630044971\n"
          ]
        }
      ]
    },
    {
      "cell_type": "code",
      "source": [
        "plt.scatter(ypred, Y, alpha=0.5)\n",
        "plt.show()"
      ],
      "metadata": {
        "colab": {
          "base_uri": "https://localhost:8080/",
          "height": 265
        },
        "id": "Bfr3kgRu9alS",
        "outputId": "74dda459-acb3-4203-c2f7-b74228634efb"
      },
      "execution_count": null,
      "outputs": [
        {
          "output_type": "display_data",
          "data": {
            "text/plain": [
              "<Figure size 432x288 with 1 Axes>"
            ],
            "image/png": "[encoded data removed]"
          },
          "metadata": {
            "needs_background": "light"
          }
        }
      ]
    }
  ]
}